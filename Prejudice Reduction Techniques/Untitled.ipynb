{
 "cells": [
  {
   "cell_type": "markdown",
   "metadata": {},
   "source": [
    "# To Do "
   ]
  },
  {
   "cell_type": "markdown",
   "metadata": {},
   "source": [
    "Terms: \n",
    "1. imagined contact\n",
    "1. direct contact & prejudice\n",
    "1. indirect contact & prejudice \n",
    "1. vicarious contact & prejudice\n",
    "1. extended contact & prejudice\n",
    "1. prejudice reduction & media\n"
   ]
  }
 ],
 "metadata": {
  "kernelspec": {
   "display_name": "Python 3",
   "language": "python",
   "name": "python3"
  },
  "language_info": {
   "codemirror_mode": {
    "name": "ipython",
    "version": 3
   },
   "file_extension": ".py",
   "mimetype": "text/x-python",
   "name": "python",
   "nbconvert_exporter": "python",
   "pygments_lexer": "ipython3",
   "version": "3.5.0"
  }
 },
 "nbformat": 4,
 "nbformat_minor": 0
}
