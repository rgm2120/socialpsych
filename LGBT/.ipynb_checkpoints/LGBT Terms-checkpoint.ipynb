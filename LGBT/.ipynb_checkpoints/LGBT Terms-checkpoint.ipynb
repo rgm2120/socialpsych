{
 "cells": [
  {
   "cell_type": "code",
   "execution_count": 1,
   "metadata": {
    "collapsed": true
   },
   "outputs": [],
   "source": [
    "import numpy as np\n",
    "import pandas as pd"
   ]
  },
  {
   "cell_type": "code",
   "execution_count": 2,
   "metadata": {
    "collapsed": true
   },
   "outputs": [],
   "source": [
    "def compoundterms(orientations, terms, filename):\n",
    "    rows = []\n",
    "\n",
    "    for orientation in orientations:\n",
    "        row = []\n",
    "        for term in terms:\n",
    "            new_word = orientation + term\n",
    "            #print(new_word)\n",
    "            row.append(new_word)\n",
    "        rows.append(row)\n",
    "\n",
    "    #print(rows)\n",
    "\n",
    "    csv_data = pd.DataFrame.from_records(rows, index=orientation, columns=terms)\n",
    "    csv_data.to_csv(filename)\n",
    "    #print(csv_data)"
   ]
  },
  {
   "cell_type": "markdown",
   "metadata": {},
   "source": [
    "# All Terms"
   ]
  },
  {
   "cell_type": "code",
   "execution_count": 3,
   "metadata": {
    "collapsed": false
   },
   "outputs": [
    {
     "ename": "KeyError",
     "evalue": "'queer'",
     "output_type": "error",
     "traceback": [
      "\u001b[0;31m---------------------------------------------------------------------------\u001b[0m",
      "\u001b[0;31mKeyError\u001b[0m                                  Traceback (most recent call last)",
      "\u001b[0;32m<ipython-input-3-5c3908081f4b>\u001b[0m in \u001b[0;36m<module>\u001b[0;34m()\u001b[0m\n\u001b[1;32m     19\u001b[0m \u001b[0mall_terms\u001b[0m \u001b[0;34m=\u001b[0m \u001b[0;34m[\u001b[0m\u001b[0;34m\"s\"\u001b[0m\u001b[0;34m]\u001b[0m\u001b[0;34m\u001b[0m\u001b[0m\n\u001b[1;32m     20\u001b[0m \u001b[0;34m\u001b[0m\u001b[0m\n\u001b[0;32m---> 21\u001b[0;31m \u001b[0mcompoundterms\u001b[0m\u001b[0;34m(\u001b[0m\u001b[0mall_orientations\u001b[0m\u001b[0;34m,\u001b[0m \u001b[0mall_terms\u001b[0m\u001b[0;34m,\u001b[0m \u001b[0;34m\"/Users/roxannemoadel-attie1/socialpsych/LGBT/All_LGBT_Terms.csv\"\u001b[0m\u001b[0;34m)\u001b[0m\u001b[0;34m\u001b[0m\u001b[0m\n\u001b[0m",
      "\u001b[0;32m<ipython-input-2-280a05a12c16>\u001b[0m in \u001b[0;36mcompoundterms\u001b[0;34m(orientations, terms, filename)\u001b[0m\n\u001b[1;32m     12\u001b[0m     \u001b[0;31m#print(rows)\u001b[0m\u001b[0;34m\u001b[0m\u001b[0;34m\u001b[0m\u001b[0m\n\u001b[1;32m     13\u001b[0m \u001b[0;34m\u001b[0m\u001b[0m\n\u001b[0;32m---> 14\u001b[0;31m     \u001b[0mcsv_data\u001b[0m \u001b[0;34m=\u001b[0m \u001b[0mpd\u001b[0m\u001b[0;34m.\u001b[0m\u001b[0mDataFrame\u001b[0m\u001b[0;34m.\u001b[0m\u001b[0mfrom_records\u001b[0m\u001b[0;34m(\u001b[0m\u001b[0mrows\u001b[0m\u001b[0;34m,\u001b[0m \u001b[0mindex\u001b[0m\u001b[0;34m=\u001b[0m\u001b[0morientation\u001b[0m\u001b[0;34m,\u001b[0m \u001b[0mcolumns\u001b[0m\u001b[0;34m=\u001b[0m\u001b[0mterms\u001b[0m\u001b[0;34m)\u001b[0m\u001b[0;34m\u001b[0m\u001b[0m\n\u001b[0m\u001b[1;32m     15\u001b[0m     \u001b[0mcsv_data\u001b[0m\u001b[0;34m.\u001b[0m\u001b[0mto_csv\u001b[0m\u001b[0;34m(\u001b[0m\u001b[0mfilename\u001b[0m\u001b[0;34m)\u001b[0m\u001b[0;34m\u001b[0m\u001b[0m\n\u001b[1;32m     16\u001b[0m     \u001b[0;31m#print(csv_data)\u001b[0m\u001b[0;34m\u001b[0m\u001b[0;34m\u001b[0m\u001b[0m\n",
      "\u001b[0;32m//anaconda/lib/python3.5/site-packages/pandas/core/frame.py\u001b[0m in \u001b[0;36mfrom_records\u001b[0;34m(cls, data, index, exclude, columns, coerce_float, nrows)\u001b[0m\n\u001b[1;32m    945\u001b[0m             if (isinstance(index, compat.string_types) or\n\u001b[1;32m    946\u001b[0m                     not hasattr(index, \"__iter__\")):\n\u001b[0;32m--> 947\u001b[0;31m                 \u001b[0mi\u001b[0m \u001b[0;34m=\u001b[0m \u001b[0mcolumns\u001b[0m\u001b[0;34m.\u001b[0m\u001b[0mget_loc\u001b[0m\u001b[0;34m(\u001b[0m\u001b[0mindex\u001b[0m\u001b[0;34m)\u001b[0m\u001b[0;34m\u001b[0m\u001b[0m\n\u001b[0m\u001b[1;32m    948\u001b[0m                 \u001b[0mexclude\u001b[0m\u001b[0;34m.\u001b[0m\u001b[0madd\u001b[0m\u001b[0;34m(\u001b[0m\u001b[0mindex\u001b[0m\u001b[0;34m)\u001b[0m\u001b[0;34m\u001b[0m\u001b[0m\n\u001b[1;32m    949\u001b[0m                 \u001b[0;32mif\u001b[0m \u001b[0mlen\u001b[0m\u001b[0;34m(\u001b[0m\u001b[0marrays\u001b[0m\u001b[0;34m)\u001b[0m \u001b[0;34m>\u001b[0m \u001b[0;36m0\u001b[0m\u001b[0;34m:\u001b[0m\u001b[0;34m\u001b[0m\u001b[0m\n",
      "\u001b[0;32m//anaconda/lib/python3.5/site-packages/pandas/core/index.py\u001b[0m in \u001b[0;36mget_loc\u001b[0;34m(self, key, method, tolerance)\u001b[0m\n\u001b[1;32m   1690\u001b[0m                 raise ValueError('tolerance argument only valid if using pad, '\n\u001b[1;32m   1691\u001b[0m                                  'backfill or nearest lookups')\n\u001b[0;32m-> 1692\u001b[0;31m             \u001b[0;32mreturn\u001b[0m \u001b[0mself\u001b[0m\u001b[0;34m.\u001b[0m\u001b[0m_engine\u001b[0m\u001b[0;34m.\u001b[0m\u001b[0mget_loc\u001b[0m\u001b[0;34m(\u001b[0m\u001b[0m_values_from_object\u001b[0m\u001b[0;34m(\u001b[0m\u001b[0mkey\u001b[0m\u001b[0;34m)\u001b[0m\u001b[0;34m)\u001b[0m\u001b[0;34m\u001b[0m\u001b[0m\n\u001b[0m\u001b[1;32m   1693\u001b[0m \u001b[0;34m\u001b[0m\u001b[0m\n\u001b[1;32m   1694\u001b[0m         indexer = self.get_indexer([key], method=method,\n",
      "\u001b[0;32mpandas/index.pyx\u001b[0m in \u001b[0;36mpandas.index.IndexEngine.get_loc (pandas/index.c:3979)\u001b[0;34m()\u001b[0m\n",
      "\u001b[0;32mpandas/index.pyx\u001b[0m in \u001b[0;36mpandas.index.IndexEngine.get_loc (pandas/index.c:3843)\u001b[0;34m()\u001b[0m\n",
      "\u001b[0;32mpandas/hashtable.pyx\u001b[0m in \u001b[0;36mpandas.hashtable.PyObjectHashTable.get_item (pandas/hashtable.c:12265)\u001b[0;34m()\u001b[0m\n",
      "\u001b[0;32mpandas/hashtable.pyx\u001b[0m in \u001b[0;36mpandas.hashtable.PyObjectHashTable.get_item (pandas/hashtable.c:12216)\u001b[0;34m()\u001b[0m\n",
      "\u001b[0;31mKeyError\u001b[0m: 'queer'"
     ]
    }
   ],
   "source": [
    "all_orientations = [\"lesbian\", \"wsw\", \"dyke\", \"butch\", \"lipstick lesbian\", \n",
    "                    \"lesbo\", \"bull dyke\", \"carpet eater\", \"carpet muncher\", \"gay\",\n",
    "                   \"homosexual\", \"msm\", \"homophile\", \"catamite\", \"fag\", \"faggot\", \"poof\", \n",
    "                   \"homo\", \"batty boy\", \"sodomite\", \"bisexual\", \"bi-sexual\", \"bi\", \n",
    "                    \"heteroflexible\", \"homoflexible\", \"mostly homosexual\", \n",
    "                    \"mostly heterosexual\", \"pansexual\", \"pan-sexual\",\n",
    "                   \"bicurious\", \"bi-curious\", \"transgender\", \"transsexual\", \"trans-sexual\", \n",
    "                    \"androgynous\", \"bigender\", \"bi-genders\", \"ftm\", \"f2m\", \"mtf\", \"m2f\", \n",
    "                    \"gender fluid\", \"gender-fluid\", \"gender nonconforming\",\n",
    "                    \"gender non-conforming\", \"genderqueer\", \"gender queer\", \"gender-queer\", \n",
    "                   \"pangender\", \"pan-gender\", \"mx\", \"third gender\", \"third-gender\", \n",
    "                    \"third sex\", \"third-sex\", \"transman\", \"transwoman\", \"two-spirit\", \n",
    "                    \"two spirit\", \"transvestite\", \"tranny\", \"ladyboy\", \"shemale\", \n",
    "                    \"fruit fly\", \"faghag\", \"asexual\", \"demisexual\", \"cross-dresser\", \n",
    "                    \"crossdresser\", \"drag queen\", \"drag-queen\", \"drag king\", \"metrosexual\", \n",
    "                    \"androsexual\", \"androphilia\", \"gynesexual\", \"gynephilia\", \"intersex\", \n",
    "                    \"inter-sex\", \"hermaphrodite\", \"polyamorous\", \"queer\"]\n",
    "\n",
    "all_terms = [\"s\"]\n",
    "\n",
    "compoundterms(all_orientations, all_terms, \"/Users/roxannemoadel-attie1/socialpsych/LGBT/All_LGBT_Terms.csv\")"
   ]
  },
  {
   "cell_type": "markdown",
   "metadata": {},
   "source": [
    "# Neutral Label"
   ]
  },
  {
   "cell_type": "code",
   "execution_count": 4,
   "metadata": {
    "collapsed": false
   },
   "outputs": [
    {
     "ename": "KeyError",
     "evalue": "'hermaphrodite'",
     "output_type": "error",
     "traceback": [
      "\u001b[0;31m---------------------------------------------------------------------------\u001b[0m",
      "\u001b[0;31mKeyError\u001b[0m                                  Traceback (most recent call last)",
      "\u001b[0;32m<ipython-input-4-8d598d2a8e59>\u001b[0m in \u001b[0;36m<module>\u001b[0;34m()\u001b[0m\n\u001b[1;32m      6\u001b[0m \u001b[0mneutral_terms\u001b[0m \u001b[0;34m=\u001b[0m \u001b[0;34m[\u001b[0m\u001b[0;34m\"s\"\u001b[0m\u001b[0;34m]\u001b[0m\u001b[0;34m\u001b[0m\u001b[0m\n\u001b[1;32m      7\u001b[0m \u001b[0;34m\u001b[0m\u001b[0m\n\u001b[0;32m----> 8\u001b[0;31m \u001b[0mcompoundterms\u001b[0m\u001b[0;34m(\u001b[0m\u001b[0mneutral_orientations\u001b[0m\u001b[0;34m,\u001b[0m \u001b[0mneutral_terms\u001b[0m\u001b[0;34m,\u001b[0m \u001b[0;34m\"/Users/roxannemoadel-attie1/socialpsych/LGBT/Neutral_Label_LGBT_Terms.csv\"\u001b[0m\u001b[0;34m)\u001b[0m\u001b[0;34m\u001b[0m\u001b[0m\n\u001b[0m",
      "\u001b[0;32m<ipython-input-2-280a05a12c16>\u001b[0m in \u001b[0;36mcompoundterms\u001b[0;34m(orientations, terms, filename)\u001b[0m\n\u001b[1;32m     12\u001b[0m     \u001b[0;31m#print(rows)\u001b[0m\u001b[0;34m\u001b[0m\u001b[0;34m\u001b[0m\u001b[0m\n\u001b[1;32m     13\u001b[0m \u001b[0;34m\u001b[0m\u001b[0m\n\u001b[0;32m---> 14\u001b[0;31m     \u001b[0mcsv_data\u001b[0m \u001b[0;34m=\u001b[0m \u001b[0mpd\u001b[0m\u001b[0;34m.\u001b[0m\u001b[0mDataFrame\u001b[0m\u001b[0;34m.\u001b[0m\u001b[0mfrom_records\u001b[0m\u001b[0;34m(\u001b[0m\u001b[0mrows\u001b[0m\u001b[0;34m,\u001b[0m \u001b[0mindex\u001b[0m\u001b[0;34m=\u001b[0m\u001b[0morientation\u001b[0m\u001b[0;34m,\u001b[0m \u001b[0mcolumns\u001b[0m\u001b[0;34m=\u001b[0m\u001b[0mterms\u001b[0m\u001b[0;34m)\u001b[0m\u001b[0;34m\u001b[0m\u001b[0m\n\u001b[0m\u001b[1;32m     15\u001b[0m     \u001b[0mcsv_data\u001b[0m\u001b[0;34m.\u001b[0m\u001b[0mto_csv\u001b[0m\u001b[0;34m(\u001b[0m\u001b[0mfilename\u001b[0m\u001b[0;34m)\u001b[0m\u001b[0;34m\u001b[0m\u001b[0m\n\u001b[1;32m     16\u001b[0m     \u001b[0;31m#print(csv_data)\u001b[0m\u001b[0;34m\u001b[0m\u001b[0;34m\u001b[0m\u001b[0m\n",
      "\u001b[0;32m//anaconda/lib/python3.5/site-packages/pandas/core/frame.py\u001b[0m in \u001b[0;36mfrom_records\u001b[0;34m(cls, data, index, exclude, columns, coerce_float, nrows)\u001b[0m\n\u001b[1;32m    945\u001b[0m             if (isinstance(index, compat.string_types) or\n\u001b[1;32m    946\u001b[0m                     not hasattr(index, \"__iter__\")):\n\u001b[0;32m--> 947\u001b[0;31m                 \u001b[0mi\u001b[0m \u001b[0;34m=\u001b[0m \u001b[0mcolumns\u001b[0m\u001b[0;34m.\u001b[0m\u001b[0mget_loc\u001b[0m\u001b[0;34m(\u001b[0m\u001b[0mindex\u001b[0m\u001b[0;34m)\u001b[0m\u001b[0;34m\u001b[0m\u001b[0m\n\u001b[0m\u001b[1;32m    948\u001b[0m                 \u001b[0mexclude\u001b[0m\u001b[0;34m.\u001b[0m\u001b[0madd\u001b[0m\u001b[0;34m(\u001b[0m\u001b[0mindex\u001b[0m\u001b[0;34m)\u001b[0m\u001b[0;34m\u001b[0m\u001b[0m\n\u001b[1;32m    949\u001b[0m                 \u001b[0;32mif\u001b[0m \u001b[0mlen\u001b[0m\u001b[0;34m(\u001b[0m\u001b[0marrays\u001b[0m\u001b[0;34m)\u001b[0m \u001b[0;34m>\u001b[0m \u001b[0;36m0\u001b[0m\u001b[0;34m:\u001b[0m\u001b[0;34m\u001b[0m\u001b[0m\n",
      "\u001b[0;32m//anaconda/lib/python3.5/site-packages/pandas/core/index.py\u001b[0m in \u001b[0;36mget_loc\u001b[0;34m(self, key, method, tolerance)\u001b[0m\n\u001b[1;32m   1690\u001b[0m                 raise ValueError('tolerance argument only valid if using pad, '\n\u001b[1;32m   1691\u001b[0m                                  'backfill or nearest lookups')\n\u001b[0;32m-> 1692\u001b[0;31m             \u001b[0;32mreturn\u001b[0m \u001b[0mself\u001b[0m\u001b[0;34m.\u001b[0m\u001b[0m_engine\u001b[0m\u001b[0;34m.\u001b[0m\u001b[0mget_loc\u001b[0m\u001b[0;34m(\u001b[0m\u001b[0m_values_from_object\u001b[0m\u001b[0;34m(\u001b[0m\u001b[0mkey\u001b[0m\u001b[0;34m)\u001b[0m\u001b[0;34m)\u001b[0m\u001b[0;34m\u001b[0m\u001b[0m\n\u001b[0m\u001b[1;32m   1693\u001b[0m \u001b[0;34m\u001b[0m\u001b[0m\n\u001b[1;32m   1694\u001b[0m         indexer = self.get_indexer([key], method=method,\n",
      "\u001b[0;32mpandas/index.pyx\u001b[0m in \u001b[0;36mpandas.index.IndexEngine.get_loc (pandas/index.c:3979)\u001b[0;34m()\u001b[0m\n",
      "\u001b[0;32mpandas/index.pyx\u001b[0m in \u001b[0;36mpandas.index.IndexEngine.get_loc (pandas/index.c:3843)\u001b[0;34m()\u001b[0m\n",
      "\u001b[0;32mpandas/hashtable.pyx\u001b[0m in \u001b[0;36mpandas.hashtable.PyObjectHashTable.get_item (pandas/hashtable.c:12265)\u001b[0;34m()\u001b[0m\n",
      "\u001b[0;32mpandas/hashtable.pyx\u001b[0m in \u001b[0;36mpandas.hashtable.PyObjectHashTable.get_item (pandas/hashtable.c:12216)\u001b[0;34m()\u001b[0m\n",
      "\u001b[0;31mKeyError\u001b[0m: 'hermaphrodite'"
     ]
    }
   ],
   "source": [
    "neutral_orientations = [\"lesbian\", \"gay\", \"homosexual\", \"homophile\", \"bisexual\", \"bi-sexual\", \n",
    "                        \"bi\", \"transgender\", \"transsexual\", \"trans-sexual\", \n",
    "                        \"androgynous\", \"transvestite\", \"asexual\", \"cross-dresser\", \n",
    "                        \"crossdresser\", \"metrosexual\", \"hermaphrodite\"]\n",
    "\n",
    "neutral_terms = [\"s\"]\n",
    "\n",
    "compoundterms(neutral_orientations, neutral_terms, \"/Users/roxannemoadel-attie1/socialpsych/LGBT/Neutral_Label_LGBT_Terms.csv\")"
   ]
  },
  {
   "cell_type": "markdown",
   "metadata": {},
   "source": [
    "# Ingroup Label"
   ]
  },
  {
   "cell_type": "code",
   "execution_count": null,
   "metadata": {
    "collapsed": true
   },
   "outputs": [],
   "source": [
    "ingroup_orientations = [\"wsw\", \"msm\", \"heteroflexible\", \"homoflexible\", \"mostly homosexual\", \n",
    "                    \"mostly heterosexual\", \"pansexual\", \"pan-sexual\",\n",
    "                   \"bicurious\", \"bi-curious\",\"bigender\", \"bi-genders\", \"ftm\", \"f2m\", \n",
    "                    \"mtf\", \"m2f\", \"gender fluid\", \"gender-fluid\", \"gender nonconforming\",\n",
    "                    \"gender non-conforming\", \"genderqueer\", \"gender queer\", \"gender-queer\", \n",
    "                   \"pangender\", \"pan-gender\", \"mx\", \"third gender\", \"third-gender\", \n",
    "                    \"third sex\", \"third-sex\", \"transman\", \"transwoman\", \"two-spirit\", \n",
    "                    \"two spirit\", \"fruit fly\", \"faghag\", \"asexual\", \"demisexual\", \n",
    "                    \"drag queen\", \"drag-queen\", \"drag king\",\"androsexual\", \"androphilia\", \n",
    "                    \"gynesexual\", \"gynephilia\", \"intersex\", \"inter-sex\", \"polyamorous\", \n",
    "                    \"queer\"]\n",
    "\n",
    "ingroup_terms = [\"s\"]\n",
    "\n",
    "compoundterms(ingroup_orientations, ingroup_terms, \"/Users/roxannemoadel-attie1/socialpsych/LGBT/Ingroup_LGBT_Terms.csv\")"
   ]
  },
  {
   "cell_type": "markdown",
   "metadata": {},
   "source": [
    "# Derogatory"
   ]
  },
  {
   "cell_type": "code",
   "execution_count": null,
   "metadata": {
    "collapsed": true
   },
   "outputs": [],
   "source": [
    "derogatory_orientations = [\"dyke\", \"butch\", \"lipstick lesbian\", \"lesbo\", \"bull dyke\", \n",
    "                           \"carpet eater\", \"carpet muncher\", \"catamite\", \"fag\", \n",
    "                           \"faggot\", \"poof\", \"homo\", \"batty boy\", \"sodomite\",  \n",
    "                            \"tranny\", \"ladyboy\", \"shemale\"]\n",
    "\n",
    "derogatory_terms = [\"s\"]\n",
    "\n",
    "compoundterms(derogatory_orientations, derogatory_terms, \"/Users/roxannemoadel-attie1/socialpsych/LGBT/Derogatory_LGBT_Terms.csv\")"
   ]
  }
 ],
 "metadata": {
  "kernelspec": {
   "display_name": "Python 3",
   "language": "python",
   "name": "python3"
  },
  "language_info": {
   "codemirror_mode": {
    "name": "ipython",
    "version": 3
   },
   "file_extension": ".py",
   "mimetype": "text/x-python",
   "name": "python",
   "nbconvert_exporter": "python",
   "pygments_lexer": "ipython3",
   "version": "3.5.2"
  }
 },
 "nbformat": 4,
 "nbformat_minor": 0
}
